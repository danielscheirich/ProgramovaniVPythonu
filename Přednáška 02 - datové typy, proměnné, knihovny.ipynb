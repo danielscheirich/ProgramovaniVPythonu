{
 "metadata": {
  "name": "",
  "signature": "sha256:d4dcf575b457e2ac076b1a5551c08d8174c7d51b763c81266c39c7c265aec500"
 },
 "nbformat": 3,
 "nbformat_minor": 0,
 "worksheets": [
  {
   "cells": [
    {
     "cell_type": "heading",
     "level": 1,
     "metadata": {},
     "source": [
      "Interpreter Pythonu jako shell"
     ]
    },
    {
     "cell_type": "markdown",
     "metadata": {},
     "source": [
      "Ide\u00e1ln\u00ed konzole pro hran\u00ed si s Pythonem je `ipython` (nebo `ipython3` pro Python 3 na Linuxu, kde jsou nainstalovan\u00e9 ob\u011b verze z\u00e1rove\u0148):\n",
      "\n",
      "`$ ipython3`"
     ]
    },
    {
     "cell_type": "code",
     "collapsed": false,
     "input": [
      "# Interpreter m\u016f\u017eeme pro za\u010d\u00e1tek pou\u017e\u00edt jako jednoduchou kalkula\u010dku\n",
      "\n",
      "5*(3+4) - 3+3*2"
     ],
     "language": "python",
     "metadata": {},
     "outputs": []
    },
    {
     "cell_type": "code",
     "collapsed": false,
     "input": [
      "# Pozor na d\u011blen\u00ed! V Pythonu 3 je v\u00fdsledkem d\u011blen\u00ed desetinn\u00e9 \u010d\u00edslo:\n",
      "\n",
      "25/3"
     ],
     "language": "python",
     "metadata": {},
     "outputs": []
    },
    {
     "cell_type": "code",
     "collapsed": false,
     "input": [
      "# V Pythonu 2 mus\u00ed b\u00fdt p\u0159i d\u011blen\u00ed aspo\u0148 jedno \u010d\u00edslo desetinn\u00e9, aby byl v\u00fdsledek taky desetinn\u00fd:\n",
      "\n",
      "25/3.0"
     ],
     "language": "python",
     "metadata": {},
     "outputs": []
    },
    {
     "cell_type": "code",
     "collapsed": false,
     "input": [
      "# Zbytek po celo\u010d\u00edseln\u00e9m d\u011blen\u00ed z\u00edsk\u00e1me pou\u017eit\u00edm oper\u00e1toru %\n",
      "\n",
      "25%3"
     ],
     "language": "python",
     "metadata": {},
     "outputs": []
    },
    {
     "cell_type": "code",
     "collapsed": false,
     "input": [
      "# Mocniny pou\u017e\u00edvaj\u00ed oper\u00e1tor **\n",
      "\n",
      "2**8"
     ],
     "language": "python",
     "metadata": {},
     "outputs": []
    },
    {
     "cell_type": "code",
     "collapsed": false,
     "input": [
      "# N\u011bkter\u00e9 matematick\u00e9 funkce jsou p\u0159\u00edmo vestav\u011bn\u00e9 do z\u00e1kladn\u00ed knihovny funkc\u00ed, nap\u0159.: abs, max, min:\n",
      "\n",
      "min(5,7,4,9,45,2), max(5,7,4,9,45,2)"
     ],
     "language": "python",
     "metadata": {},
     "outputs": []
    },
    {
     "cell_type": "code",
     "collapsed": false,
     "input": [
      "# \u010c\u00edsla a dal\u0161\u00ed hodnoty m\u016f\u017eeme ulo\u017eit do prom\u011bnn\u00e9 a d\u00e1le vyu\u017e\u00edvat klasick\u00fdm zp\u016fsobem\n",
      "\n",
      "a=2\n",
      "b=1\n",
      "c=(a+b)*3\n",
      "print(c)"
     ],
     "language": "python",
     "metadata": {},
     "outputs": []
    },
    {
     "cell_type": "markdown",
     "metadata": {},
     "source": [
      "**Pozn\u00e1mka na okraj**: \"obsah\" libovoln\u00e9ho objektu (prom\u011bnn\u00e9, funkce...) m\u016f\u017eeme vypsat p\u0159\u00edkazem dir. Seznam vestav\u011bn\u00fdch objekt\u016f zobraz\u00ed p\u0159\u00edkaz `dir(__builtins__)`. "
     ]
    },
    {
     "cell_type": "code",
     "collapsed": false,
     "input": [
      "dir(__builtins__)"
     ],
     "language": "python",
     "metadata": {},
     "outputs": []
    },
    {
     "cell_type": "markdown",
     "metadata": {},
     "source": [
      "Krom\u011b t\u00e9to \"n\u00e1pov\u011bdy\" m\u00e1me k dispozici dokumentaci p\u0159\u00edmo v interpreteru. Dostaneme se k n\u00ed nap\u0159\u00edklad p\u0159\u00edkazem help, nebo v konzoli `ipython` jednodu\u0161e otazn\u00edkem."
     ]
    },
    {
     "cell_type": "code",
     "collapsed": false,
     "input": [
      "help(int)"
     ],
     "language": "python",
     "metadata": {},
     "outputs": []
    },
    {
     "cell_type": "code",
     "collapsed": false,
     "input": [
      "int?"
     ],
     "language": "python",
     "metadata": {},
     "outputs": []
    },
    {
     "cell_type": "markdown",
     "metadata": {},
     "source": [
      "** Zp\u00e1tky k datov\u00fdm typ\u016fm **"
     ]
    },
    {
     "cell_type": "code",
     "collapsed": false,
     "input": [
      "# \u0158et\u011bzce se uvozuj\u00ed znakem ' nebo \" (pozor na vno\u0159en\u00e9 ' a \")\n",
      "print('Ahoj \"sv\u011bte\"!')\n",
      "print(\"Ahoj 'sv\u011bte'!\")\n",
      "print(\"Ahoj \\\"sv\u011bte\\\"!\")\n",
      "\n",
      "# V\u00edce\u0159\u00e1dkov\u00e9 \u0159et\u011bzce (nebo intern\u00ed dokumentace):\n",
      "\n",
      "print('''\n",
      "Ahoj\n",
      "'sv\u011bte'!\n",
      "''')\n",
      "\n",
      "print(\"\"\"\n",
      "Ahoj\n",
      "\"sv\u011bte\"!\n",
      "\"\"\")\n",
      "\n",
      "print(\"Ahoj\\nsv\u011bte!\")"
     ],
     "language": "python",
     "metadata": {},
     "outputs": []
    },
    {
     "cell_type": "code",
     "collapsed": false,
     "input": [
      "# \u0158et\u011bzce se daj\u00ed spojit nap\u0159. oper\u00e1torem + nebo t\u00edm, \u017ee je \"polo\u017e\u00edme\" vedle sebe\n",
      "\n",
      "print('Monty'+' '+'Python\u016fv' ' L\u00e9taj\u00edc\u00ed ' 'Cirkus')\n",
      "\n",
      "# ale m\u016f\u017eeme je i n\u00e1sobit:\n",
      "\n",
      "print(30*'*')"
     ],
     "language": "python",
     "metadata": {},
     "outputs": []
    },
    {
     "cell_type": "code",
     "collapsed": false,
     "input": [
      "# \u010c\u00edsla a \u0159et\u011bzce m\u016f\u017eeme p\u0159ev\u00e1d\u011bt mezi sebou.\n",
      "# \u0158et\u011bzec na \u010d\u00edslo:\n",
      "\n",
      "int('20'), int('20',base=10), int('20', base=16), float('10.5')"
     ],
     "language": "python",
     "metadata": {},
     "outputs": []
    },
    {
     "cell_type": "code",
     "collapsed": false,
     "input": [
      "# \u010c\u00edslo na \u0159et\u011bzec (intern\u011b jak\u00fdkoliv objekt na svou \u0159et\u011bzcovou reprezentaci):\n",
      "\n",
      "str(35), str(0x10), str(5.65)"
     ],
     "language": "python",
     "metadata": {},
     "outputs": []
    },
    {
     "cell_type": "code",
     "collapsed": false,
     "input": [
      "# Speci\u00e1ln\u00ed \"\u010d\u00edsla\" jsou i booleovsk\u00e9 hodnoty pravda: True (1) a nepravda: False (0)\n",
      "\n",
      "a = True\n",
      "b = False\n",
      "print(a+b)\n",
      "\n",
      "# Oper\u00e1tory jako == < > <= >= != a dal\u0161\u00ed vracej\u00ed pr\u00e1v\u011b booleovsk\u00e9 hodnoty\n",
      "\n",
      "print(a==b)"
     ],
     "language": "python",
     "metadata": {},
     "outputs": []
    },
    {
     "cell_type": "code",
     "collapsed": false,
     "input": [
      "# P\u0159\u00edmo v jazyce existuje i podpora pro komplexn\u00ed \u010d\u00edsla\n",
      "\n",
      "c1 = 1+2j\n",
      "c2 = 3-3j\n",
      "\n",
      "print(c1+c2)"
     ],
     "language": "python",
     "metadata": {},
     "outputs": []
    },
    {
     "cell_type": "code",
     "collapsed": false,
     "input": [
      "# K jednotliv\u00fdm \u010d\u00e1stem komplexn\u00edho \u010d\u00edsla se dostaneme p\u0159es atributy `.real` a `.imag`\n",
      "\n",
      "print(c1.real)\n",
      "print(c1.imag)"
     ],
     "language": "python",
     "metadata": {},
     "outputs": []
    },
    {
     "cell_type": "markdown",
     "metadata": {},
     "source": [
      "**Dal\u0161\u00ed datov\u00e9 typy**\n",
      "\n",
      "\u010c\u00edsla a \u0159et\u011bzce jsou skal\u00e1rn\u00ed datov\u00e9 typy. Pro reprezentaci vektorov\u00fdch, maticov\u00fdch a dal\u0161\u00edch v\u00edcerozm\u011brn\u00fdch dat m\u00e1me v z\u00e1kladn\u00edm Pythonu n\u011bkolik v\u011bstav\u011bn\u00fdch mo\u017enost\u00ed: *n-tice (tuple), seznam (list), asociativn\u00ed pole (dictionary), mno\u017eina (set)*. Prvkem pole m\u016f\u017ee b\u00fdt jak\u00fdkoliv objekt."
     ]
    },
    {
     "cell_type": "code",
     "collapsed": false,
     "input": [
      "# Tuple (n-tice) je vektor (pole) s nem\u011bnn\u00fdm obsahem\n",
      "\n",
      "(1,2,3,4,5)"
     ],
     "language": "python",
     "metadata": {},
     "outputs": []
    },
    {
     "cell_type": "code",
     "collapsed": false,
     "input": [
      "(1, 'Dead', 'Parrot')"
     ],
     "language": "python",
     "metadata": {},
     "outputs": []
    },
    {
     "cell_type": "markdown",
     "metadata": {},
     "source": [
      "P\u0159\u00edstup k prvk\u016fm pole je p\u0159es `[]` (slicing). \n",
      "### Index prvn\u00edho prvku pole (n-tice a seznamu) je: **0**\n",
      "Index posledn\u00edho je **n-1**, kde n je po\u010det prvk\u016f pole."
     ]
    },
    {
     "cell_type": "code",
     "collapsed": false,
     "input": [
      "pole = (1,2,3,4,5)\n",
      "\n",
      "print(\"pole      =\", pole)\n",
      "print(\"pole[0]   =\", pole[0])\n",
      "print(\"pole[1]   =\", pole[1])\n",
      "print(\"pole[-1]  =\", pole[-1])\n",
      "print(\"pole[1:4] =\", pole[1:4])\n",
      "print(\"pole[:3]  =\", pole[:3])\n",
      "print(\"pole[2:]  =\", pole[2:])"
     ],
     "language": "python",
     "metadata": {},
     "outputs": []
    },
    {
     "cell_type": "code",
     "collapsed": false,
     "input": [
      "# Tuple je nem\u011bnn\u00fd, pokus o zm\u011bnu jeho prvk\u016f skon\u010d\u00ed chybou:\n",
      "\n",
      "pole[2] = 1\n",
      "print(pole)"
     ],
     "language": "python",
     "metadata": {},
     "outputs": []
    },
    {
     "cell_type": "code",
     "collapsed": false,
     "input": [
      "# List (seznam) je skoro to sam\u00e9, ale m\u016f\u017ee se m\u011bnit za b\u011bhu programu\n",
      "\n",
      "seznam = [1,2,3,4,5]\n",
      "print(\"seznam[3:6]=\", seznam[3:6])\n",
      "\n",
      "seznam[1]=20\n",
      "print(seznam)\n",
      "\n",
      "seznam[3:5] = 30, 40\n",
      "print(seznam)"
     ],
     "language": "python",
     "metadata": {},
     "outputs": []
    },
    {
     "cell_type": "code",
     "collapsed": false,
     "input": [
      "# Vestav\u011bn\u00e9 funkce se \u010dasto daj\u00ed pou\u017e\u00edt na r\u016fzn\u00e9 datov\u00e9 typy a \u010dasto to funguje podle o\u010dek\u00e1v\u00e1n\u00ed!\n",
      "\n",
      "max([5,6,4,7,8,34,67,1,0]), min([5,6,4,7,8,34,67,1,0])"
     ],
     "language": "python",
     "metadata": {},
     "outputs": []
    },
    {
     "cell_type": "code",
     "collapsed": false,
     "input": [
      "# ... a kdy\u017e k tomu p\u0159id\u00e1me p\u00e1r dal\u0161\u00edch p\u0159\u00edkaz\u016f, tak m\u016f\u017eeme hned kreslit grafy..."
     ],
     "language": "python",
     "metadata": {},
     "outputs": []
    },
    {
     "cell_type": "code",
     "collapsed": false,
     "input": [
      "%matplotlib inline"
     ],
     "language": "python",
     "metadata": {},
     "outputs": []
    },
    {
     "cell_type": "code",
     "collapsed": false,
     "input": [
      "import matplotlib.pyplot as plt\n",
      "\n",
      "data = [1,2,4,8,16,32,64,128,256,512,1024]\n",
      "\n",
      "plt.plot(data)\n",
      "plt.plot(data[::-1]) # T\u0159et\u00ed argument slicu je krok (stride), z\u00e1porn\u00fd p\u0159evrac\u00ed po\u0159ad\u00ed prvk\u016f"
     ],
     "language": "python",
     "metadata": {},
     "outputs": []
    },
    {
     "cell_type": "markdown",
     "metadata": {},
     "source": [
      "### Odbo\u010dka k prom\u011bnn\u00fdm a datov\u00fdm typ\u016fm\n",
      "\n",
      "Python je **dynamicky typovan\u00fd** jazyk: datov\u00e9 typy prom\u011bnn\u00fdch nemus\u00edm p\u0159edem ur\u010dit, interpreter si je odvod\u00ed podle hodnoty, kterou do prom\u011bnn\u00e9 p\u0159i\u0159ad\u00edm:\n",
      "\n",
      "```python\n",
      "weight = 16        # prom\u011bnn\u00e1 weight je cel\u00e9 \u010d\u00edslo\n",
      "velocity = 11.2    # prom\u011bnn\u00e1 velocity je desetinn\u00e9 \u010d\u00edslo\n",
      "castle = 'Camelot' # prom\u011bnn\u00e1 castle je \u0159et\u011bzec\n",
      "pythons = ['Eric', 'Graham', 'Terry', 'John', 'Michael', 'Terry']\n",
      "                   # pythons je seznam \u0159et\u011bzc\u016f\n",
      "```\n",
      "\n",
      "Typ prom\u011bnn\u00e9 se m\u016f\u017ee m\u011bnit za b\u011bhu programu:\n",
      "\n",
      "```python\n",
      ">>> weight = 16     # Odsud d\u00e1l to bude cel\u00e9 \u010d\u00edslo\n",
      ">>> type(weight)    # Funkce type vyp\u00ed\u0161e typ prom\u011bnn\u00e9\n",
      "int\n",
      ">>> weight = 16.0   # Tady u\u017e se zm\u011bn\u00ed na desetinn\u00e9 \u010d\u00edslo\n",
      ">>> type(weight)\n",
      "float\n",
      ">>> weight = '16.0' # M\u016f\u017ee to b\u00fdt i \u0159et\u011bzec, pole ... cokoliv\n",
      ">>> type(weight)\n",
      "string\n",
      "```\n",
      "\n",
      "Z\u00e1rove\u0148 je Python **siln\u011b typovan\u00fd**; typ, kter\u00fd prom\u011bnn\u00e9 jednou p\u0159i\u0159ad\u00edm, se kontroluje za b\u011bhu programu a interpreter nedovol\u00ed prov\u00e1d\u011bt s prom\u011bnnou operaci, kter\u00e1 nen\u00ed pro dan\u00fd typ definovan\u00e1 (v\u011bt\u0161inou neprov\u00e1d\u00ed automatick\u00e9 konverze):\n",
      "\n",
      "```python\n",
      ">>> weight = 16.0\n",
      ">>> weight+1\n",
      "17.0\n",
      "\n",
      ">>> weight = '16.0'\n",
      ">>> weight+1\n",
      "TypeError: cannot concatenate 'str' and 'int' objects\n",
      "```\n",
      "\n",
      "#### M\u011bniteln\u00e9 a nem\u011bniteln\u00e9 datov\u00e9 typy\n",
      "\n",
      "Prom\u011bnn\u00e1 je intern\u011b ukazatel do pam\u011bti. N\u011bkter\u00e9 datov\u00e9 typy umo\u017e\u0148uj\u00ed m\u011bnit hodnotu prom\u011bnn\u00e9 za b\u011bhu, jsou to: `list`, `dictionary`, `set` (a `byte array`). Ostatn\u00ed z\u016fst\u00e1vaj\u00ed nem\u011bnn\u00e9: hodnotu \u010d\u00edsla nebo \u010d\u00e1st \u0159et\u011bzce nejde zm\u011bnit (ale dok\u00e1\u017eeme zm\u011bnit adresu v pam\u011bti, kam prom\u011bnn\u00e1 ukazuje). N\u011bkdy kv\u016fli tomu doch\u00e1z\u00ed k \"z\u00e1bavn\u00fdm\" situac\u00edm..."
     ]
    },
    {
     "cell_type": "code",
     "collapsed": false,
     "input": [
      "# U nem\u011bniteln\u00fdch (immutable) typ\u016f to funguje standardn\u011b\n",
      "\n",
      "a=1\n",
      "b=a\n",
      "print('b=a:', a,b)\n",
      "b=2\n",
      "print('b=2:', a,b)"
     ],
     "language": "python",
     "metadata": {},
     "outputs": []
    },
    {
     "cell_type": "code",
     "collapsed": false,
     "input": [
      "# U m\u011bniteln\u00fdch (mutable) je ale t\u0159eba d\u00e1vat pozor:\n",
      "\n",
      "data_orig = [1,1,1,1,1]\n",
      "data_new  = data_orig\n",
      "print('data_new=data_orig:', data_orig, data_new)\n",
      "data_new[2] = 3\n",
      "print('data_new[2] = 3   :', data_orig, data_new)"
     ],
     "language": "python",
     "metadata": {},
     "outputs": []
    },
    {
     "cell_type": "markdown",
     "metadata": {},
     "source": [
      "### Pozn\u00e1mka pro C\u00e9\u010dka\u0159e\n",
      "\n",
      "P\u0159i\u0159azen\u00ed (assignment) do prom\u011bnn\u00e9 nen\u00ed v\u00fdrazem (expression), tak\u017ee n\u011bkter\u00e9 zkratky z jazyka C si v Pythonu neu\u017eijete, nap\u0159.:\n",
      "\n",
      "```\n",
      "print(a=b)\n",
      "```\n",
      "\n",
      "nebude fungovat.\n",
      "\n",
      "### N\u011bkter\u00e9 zkratky byly p\u0159evzaty do Pythonu\n",
      "\n",
      "```\n",
      "# N\u00e1sleduj\u00edc\u00ed dva p\u0159\u00edkazy maj\u00ed stejn\u00fd v\u00fdsledek\n",
      "a = a+1\n",
      "a += 1\n",
      "\n",
      "b = b-1\n",
      "b -= a\n",
      "```\n",
      "\n",
      "### Zkuste si...\n",
      "\n",
      "Co ud\u011bl\u00e1 n\u00e1sleduj\u00edc\u00ed p\u0159\u00edkaz?\n",
      "\n",
      "```python\n",
      "a,b = b,a\n",
      "```"
     ]
    },
    {
     "cell_type": "markdown",
     "metadata": {},
     "source": [
      "### Roz\u0161i\u0159uj\u00edc\u00ed knihovny\n",
      "\n",
      "Vestav\u011bn\u00e9 datov\u00e9 typy toho um\u00ed hodn\u011b, ale pro matematick\u00e9 a fyzik\u00e1ln\u00ed aplikace existuje n\u011bkolik knihoven, kter\u00e9 p\u0159id\u00e1vaj\u00ed dal\u0161\u00ed datov\u00e9 typy. Z\u0159ejm\u011b nejpou\u017e\u00edvan\u011bj\u0161\u00ed je knihovna `NumPy`/`SciPy`, kter\u00e1 umo\u017e\u0148uje pracovat s v\u00edcerozm\u011brn\u00fdmi daty o\u010dek\u00e1van\u00fdm zp\u016fsobem."
     ]
    },
    {
     "cell_type": "code",
     "collapsed": false,
     "input": [
      "import numpy as np\n",
      "import matplotlib.pyplot as plt\n",
      "\n",
      "temperature = np.array([[0, 1, 2, 3, 4],\n",
      "                        [1, 2, 3, 4, 5],\n",
      "                        [2, 3, 4, 5, 6],\n",
      "                        [3, 4, 5, 6, 7],\n",
      "                        [4, 5, 6, 7, 8]],\n",
      "                       dtype=np.float)\n",
      "\n",
      "temperature += 273.15\n",
      "\n",
      "print(temperature)\n",
      "plt.contourf(temperature)    # funkce contourf knihovny matplotlib vykresl\u00ed 2D pole jako vypln\u011bn\u00e9 kontury"
     ],
     "language": "python",
     "metadata": {},
     "outputs": []
    },
    {
     "cell_type": "code",
     "collapsed": false,
     "input": [
      "# Graf funkce y = sin(2x)+cos(2x)\n",
      "\n",
      "x = np.arange(0,360)\n",
      "y = np.sin(np.deg2rad(2*x)) + np.cos(np.deg2rad(2*x))\n",
      "\n",
      "plt.plot(x,y)"
     ],
     "language": "python",
     "metadata": {},
     "outputs": []
    },
    {
     "cell_type": "markdown",
     "metadata": {},
     "source": [
      "## Knihovny funkc\u00ed\n",
      "\n",
      "Filozofi\u00ed Pythonu je \"batteries included\", tedy velk\u00e9 mno\u017estv\u00ed knihoven je k dispozici p\u0159\u00edmo v z\u00e1kladn\u00ed distribuci, nap\u0159. knihovny `math`, `re` (regul\u00e1rn\u00ed v\u00fdrazy), `datetime` a `calendar` (pr\u00e1ce s datov\u00fdmi typy datum, \u010das a r\u016fzn\u00fdmi kalend\u00e1\u0159ov\u00fdmi funkcemi), `decimal` (po\u010d\u00edt\u00e1n\u00ed s p\u0159esn\u00fdmi desetinn\u00fdmi \u010d\u00edsly) a mnoho dal\u0161\u00edch. Krom\u011b toho se daj\u00ed na internetu naj\u00edt dal\u0161\u00ed a dal\u0161\u00ed knihovny. Dobr\u00fdm zdrojem je ofici\u00e1ln\u00ed archiv PyPI [https://pypi.python.org/pypi], ale i mimo n\u011bj se najde ledacos u\u017eite\u010dn\u00e9ho, krom\u011b toho vlastn\u00ed knihovny m\u016f\u017eeme vytv\u00e1\u0159et sami.\n",
      "\n",
      "Abychom mohli knihovnu vyu\u017e\u00edvat, je t\u0159eba ji nejd\u0159\u00edv zp\u0159\u00edstupnit, \u010desky \u0159e\u010deno naimportovat. Import funguje v\u017edy v aktu\u00e1ln\u00edm kontextu (co to je, se dozv\u00edme pozd\u011bji, pro za\u010d\u00e1tek n\u00e1m sta\u010d\u00ed v\u011bd\u011bt, \u017ee import je pot\u0159eba prov\u00e9st v\u017edycky v ka\u017ed\u00e9 nov\u00e9 instanci interpreteru).\n",
      "\n",
      "### N\u011bkolik mo\u017enost\u00ed importu\n",
      "\n",
      "```python\n",
      ">>> import math\n",
      ">>> y = math.sin(x)\n",
      "\n",
      ">>> import numpy as np\n",
      ">>> data = np.arange(100)\n",
      "\n",
      ">>> from matplotlib.pyplot import plot\n",
      ">>> plot(data)\n",
      "\n",
      ">>> from numpy.ma import masked_array as ma\n",
      ">>> data = ma(data, mask=True)\n",
      "```\n",
      "\n",
      "D\u00e1 se pou\u017e\u00edt i zkratka, ale to rad\u0161i pou\u017e\u00edv\u00e1me jen v kr\u00e1tk\u00fdch skriptech, neb to neprosp\u00edv\u00e1 \u010ditelnosti k\u00f3du.\n",
      "```python\n",
      ">>> from numpy import *\n",
      ">>> data = arange(100)\n",
      "```"
     ]
    },
    {
     "cell_type": "markdown",
     "metadata": {},
     "source": [
      "### Konkr\u00e9tn\u00ed p\u0159\u00edklad...\n",
      "\n",
      "*\u00daloha 1*: Na\u010dt\u011bte soubor `europe-heights.csv`, ve kter\u00e9m je ulo\u017een\u00e1 topografie Evropy v rozli\u0161en\u00ed 50x50km (z modelu RegCM) a zobrazte jako 2D mapu.\n",
      "\n",
      "*\u0158e\u0161en\u00ed:* cv_2_1.py\n",
      "\n",
      "```python\n",
      "#!/usr/bin/env python\n",
      "\n",
      "import numpy as np\n",
      "import matplotlib.pyplot as plt\n",
      "\n",
      "data = np.genfromtxt('europe-heights.csv', delimiter=',', skip_header=1)\n",
      "\n",
      "x = np.unique(data[:,0])\n",
      "y = np.unique(data[:,1])\n",
      "\n",
      "heights = data[:,4].reshape(len(x), len(y))\n",
      "\n",
      "plt.contourf(x, y, heights)\n",
      "plt.savefig('europe-heights.png')\n",
      "```"
     ]
    },
    {
     "cell_type": "markdown",
     "metadata": {},
     "source": [
      "### A te\u010f si to zkuste sami...\n",
      "\n",
      "*\u00daloha 2*: Spo\u010d\u00edtejte plochu pod k\u0159ivkou $y = cos(x)$ v intervalu $x \\in <0\u00b0-90\u00b0>$.\n",
      "\n",
      "*N\u00e1pov\u011bda*: Pou\u017eijte n\u011bkter\u00e9 p\u0159ibl\u00ed\u017een\u00ed Riemannova integr\u00e1lu. V\u0161echny pot\u0159ebn\u00e9 funkce najdete v knihovn\u011b `numpy` (hledejte `arange` nebo `linspace`, `cos`, `deg2rad`, `sum`)."
     ]
    }
   ],
   "metadata": {}
  }
 ]
}