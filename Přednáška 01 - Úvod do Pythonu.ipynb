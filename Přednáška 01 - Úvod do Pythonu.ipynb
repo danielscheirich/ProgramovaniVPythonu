{
 "cells": [
  {
   "cell_type": "markdown",
   "metadata": {},
   "source": [
    "*A nyní něco úplně jiného...*\n",
    "\n",
    "## Python\n",
    "\n",
    "*Rossumův Univerzální Jazyk*\n",
    "\n",
    "### Velmi stručná historie\n",
    "\n",
    "Jazyk Python vymyslel Guido van Rossum na konci 80. let 20. století, nejmodernější verze je Python3 (k dispozici od roku 2008), ale stále je populární Python2, dnes ve verzi 2.7.\n",
    "\n",
    "### Nástroje\n",
    "\n",
    "Pythonovské skripty se dají velmi dobře psát v jakémkoliv textovém editoru (vi, vim, notepad, pspad...), ale existují pro něj i mnohá IDE (intergrovaná vývojová prostředí) - na našich počítačích bude nainstalován **Spyder**. Pro zkoušení a hraní si je výborná konzole **IPython**, ve které je možné otevřít a spouštět materiály z přednášek (zkopírujte si soubory `*.ipynb` z těchto stránek do jednoho adresáře a v něm spusťte příkaz `ipython notebook`).\n",
    "\n",
    "### Odkazy\n",
    "\n",
    "https://www.python.org/ (nejlepší literatura je dokumentace)  \n",
    "http://www.python.cz/\n",
    "\n",
    "http://python-xy.github.io/ (distribuce Pythonu a všechny důležité knihovny v jednom pro Windowsáky)\n",
    "\n",
    "## https://www.google.cz/search?q=python\n",
    "\n",
    "### Základní fakta\n",
    "\n",
    "Python je univerzální, otevřený (Open Source), interpretovaný (víceméně), dynamicky typovaný, objektově orientovaný s funkcionálními konstrukty."
   ]
  },
  {
   "cell_type": "markdown",
   "metadata": {},
   "source": [
    "# První program v Pythonu"
   ]
  },
  {
   "cell_type": "code",
   "execution_count": 1,
   "metadata": {},
   "outputs": [
    {
     "name": "stdout",
     "output_type": "stream",
     "text": [
      "Hello world!\n"
     ]
    }
   ],
   "source": [
    "print(\"Hello world!\")"
   ]
  },
  {
   "cell_type": "markdown",
   "metadata": {},
   "source": [
    "## Základní filozofie programování v Pythonu"
   ]
  },
  {
   "cell_type": "code",
   "execution_count": 2,
   "metadata": {},
   "outputs": [
    {
     "name": "stdout",
     "output_type": "stream",
     "text": [
      "The Zen of Python, by Tim Peters\n",
      "\n",
      "Beautiful is better than ugly.\n",
      "Explicit is better than implicit.\n",
      "Simple is better than complex.\n",
      "Complex is better than complicated.\n",
      "Flat is better than nested.\n",
      "Sparse is better than dense.\n",
      "Readability counts.\n",
      "Special cases aren't special enough to break the rules.\n",
      "Although practicality beats purity.\n",
      "Errors should never pass silently.\n",
      "Unless explicitly silenced.\n",
      "In the face of ambiguity, refuse the temptation to guess.\n",
      "There should be one-- and preferably only one --obvious way to do it.\n",
      "Although that way may not be obvious at first unless you're Dutch.\n",
      "Now is better than never.\n",
      "Although never is often better than *right* now.\n",
      "If the implementation is hard to explain, it's a bad idea.\n",
      "If the implementation is easy to explain, it may be a good idea.\n",
      "Namespaces are one honking great idea -- let's do more of those!\n"
     ]
    }
   ],
   "source": [
    "import this"
   ]
  },
  {
   "cell_type": "code",
   "execution_count": 4,
   "metadata": {},
   "outputs": [
    {
     "name": "stdout",
     "output_type": "stream",
     "text": [
      "hi\n"
     ]
    }
   ],
   "source": [
    "print (\"hi\")"
   ]
  },
  {
   "cell_type": "code",
   "execution_count": 5,
   "metadata": {},
   "outputs": [
    {
     "data": {
      "text/plain": [
       "[<matplotlib.lines.Line2D at 0x1116daee0>]"
      ]
     },
     "execution_count": 5,
     "metadata": {},
     "output_type": "execute_result"
    },
    {
     "data": {
      "image/png": "[encoded data removed]",
      "text/plain": [
       "<Figure size 432x288 with 1 Axes>"
      ]
     },
     "metadata": {
      "needs_background": "light"
     },
     "output_type": "display_data"
    }
   ],
   "source": [
    "%matplotlib inline\n",
    "import matplotlib.pyplot as plt\n",
    "\n",
    "data = [1,2,4,8,16,32,64,128,256,512,1024]\n",
    "\n",
    "plt.plot(data)\n",
    "plt.plot(data[::-1])"
   ]
  },
  {
   "cell_type": "code",
   "execution_count": null,
   "metadata": {},
   "outputs": [],
   "source": []
  }
 ],
 "metadata": {
  "kernelspec": {
   "display_name": "Python 3",
   "language": "python",
   "name": "python3"
  },
  "language_info": {
   "codemirror_mode": {
    "name": "ipython",
    "version": 3
   },
   "file_extension": ".py",
   "mimetype": "text/x-python",
   "name": "python",
   "nbconvert_exporter": "python",
   "pygments_lexer": "ipython3",
   "version": "3.8.1"
  }
 },
 "nbformat": 4,
 "nbformat_minor": 1
}
